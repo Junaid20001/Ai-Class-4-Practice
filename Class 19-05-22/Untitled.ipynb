{
 "cells": [
  {
   "cell_type": "code",
   "execution_count": 7,
   "id": "56a3593a",
   "metadata": {},
   "outputs": [
    {
     "name": "stdout",
     "output_type": "stream",
     "text": [
      "Hello Eric,would you like to learn some Python?\n"
     ]
    }
   ],
   "source": [
    "name = \"Eric\"\n",
    "print(\"Hello \" + name +',' + \"would you like to learn some Python?\")"
   ]
  },
  {
   "cell_type": "code",
   "execution_count": 3,
   "id": "f0b37455",
   "metadata": {},
   "outputs": [
    {
     "data": {
      "text/plain": [
       "'junaid'"
      ]
     },
     "execution_count": 3,
     "metadata": {},
     "output_type": "execute_result"
    }
   ],
   "source": [
    "name = \"junaid\"\n",
    "\n",
    "name.lower()\n"
   ]
  },
  {
   "cell_type": "code",
   "execution_count": 10,
   "id": "580439a6",
   "metadata": {},
   "outputs": [
    {
     "data": {
      "text/plain": [
       "'Junaid'"
      ]
     },
     "execution_count": 10,
     "metadata": {},
     "output_type": "execute_result"
    }
   ],
   "source": [
    "name.capitalize()"
   ]
  },
  {
   "cell_type": "code",
   "execution_count": 5,
   "id": "e1c5ebc0",
   "metadata": {},
   "outputs": [],
   "source": [
    "x = name.title()"
   ]
  },
  {
   "cell_type": "code",
   "execution_count": 6,
   "id": "c72f3cbb",
   "metadata": {},
   "outputs": [
    {
     "name": "stdout",
     "output_type": "stream",
     "text": [
      "Junaid\n"
     ]
    }
   ],
   "source": [
    "print(x)"
   ]
  },
  {
   "cell_type": "markdown",
   "id": "a5b2f6b6",
   "metadata": {},
   "source": [
    "# Logical \"and\" and Logical \"or\" operator"
   ]
  },
  {
   "cell_type": "code",
   "execution_count": 7,
   "id": "2d412947",
   "metadata": {},
   "outputs": [
    {
     "data": {
      "text/plain": [
       "True"
      ]
     },
     "execution_count": 7,
     "metadata": {},
     "output_type": "execute_result"
    }
   ],
   "source": [
    "10>5 or 20>30"
   ]
  },
  {
   "cell_type": "code",
   "execution_count": 8,
   "id": "df9503af",
   "metadata": {},
   "outputs": [
    {
     "data": {
      "text/plain": [
       "False"
      ]
     },
     "execution_count": 8,
     "metadata": {},
     "output_type": "execute_result"
    }
   ],
   "source": [
    "10>5 and 20>30"
   ]
  },
  {
   "cell_type": "markdown",
   "id": "b4681465",
   "metadata": {},
   "source": [
    "# if Statement\n",
    "\n"
   ]
  },
  {
   "cell_type": "code",
   "execution_count": 19,
   "id": "4b5b36c0",
   "metadata": {},
   "outputs": [
    {
     "name": "stdout",
     "output_type": "stream",
     "text": [
      "Enter first number58\n",
      "Enter second number58\n",
      "58 is equal to 58\n"
     ]
    }
   ],
   "source": [
    "num1 = int(input(\"Enter first number\"))\n",
    "num2 = int(input(\"Enter second number\"))\n",
    "\n",
    "if num1==num2:\n",
    "    \n",
    "    \n",
    "     print(f\"{num1} is equal to {num2}\")\n",
    "else:    \n",
    "     print(\"I am out of if block\")"
   ]
  },
  {
   "cell_type": "code",
   "execution_count": 25,
   "id": "64301e8d",
   "metadata": {},
   "outputs": [
    {
     "name": "stdout",
     "output_type": "stream",
     "text": [
      "Enter first number25\n",
      "Enter second number20\n",
      "25 is greater then to 20\n"
     ]
    }
   ],
   "source": [
    "num1 = int(input(\"Enter first number\"))\n",
    "num2 = int(input(\"Enter second number\"))\n",
    "\n",
    "if num1>=num2:\n",
    "    \n",
    "    \n",
    "     print(f\"{num1} is greater then to {num2}\")\n",
    "else:    \n",
    "     print(f\"{num1} is lower then to {num2}\")"
   ]
  },
  {
   "cell_type": "code",
   "execution_count": 33,
   "id": "a52a0d5d",
   "metadata": {},
   "outputs": [
    {
     "name": "stdout",
     "output_type": "stream",
     "text": [
      "Enter first number25\n",
      "Enter second number25\n",
      "25 is equal to 25\n"
     ]
    }
   ],
   "source": [
    "num1 = int(input(\"Enter first number\"))\n",
    "num2 = int(input(\"Enter second number\"))\n",
    "\n",
    "if num1>=num2:\n",
    "     print(f\"{num1} is equal to {num2}\")\n",
    "    \n",
    "elif num1 > num2:\n",
    "     print(f\"{num1} is greater then to {num2}\")\n",
    "    \n",
    "elif num1 < num2:    \n",
    "     print(f\"{num1} is lower then to {num2}\")\n",
    "    \n",
    "else: \n",
    "    print(\"Ja Bhai kahi aur ja k pata kar\")\n",
    "    \n",
    "    "
   ]
  },
  {
   "cell_type": "raw",
   "id": "5b3b04b2",
   "metadata": {},
   "source": [
    "check if the number input bu user is a multiple of 5 or 7"
   ]
  },
  {
   "cell_type": "code",
   "execution_count": 53,
   "id": "7c2c1cbb",
   "metadata": {},
   "outputs": [
    {
     "name": "stdout",
     "output_type": "stream",
     "text": [
      "Enter number in this table49\n",
      "the number is multiple of 7\n"
     ]
    }
   ],
   "source": [
    "num1 = int(input(\"Enter number in this table\"))\n",
    "\n",
    "if num1%5==0:\n",
    "     print(f\"the number is multiple of 5\")\n",
    "    \n",
    "        \n",
    "elif num1%7==0:\n",
    "     print(f\"the number is multiple of 7\")"
   ]
  },
  {
   "cell_type": "code",
   "execution_count": null,
   "id": "63388a09",
   "metadata": {},
   "outputs": [],
   "source": []
  },
  {
   "cell_type": "code",
   "execution_count": null,
   "id": "d0b47a3c",
   "metadata": {},
   "outputs": [],
   "source": []
  }
 ],
 "metadata": {
  "kernelspec": {
   "display_name": "Python 3 (ipykernel)",
   "language": "python",
   "name": "python3"
  },
  "language_info": {
   "codemirror_mode": {
    "name": "ipython",
    "version": 3
   },
   "file_extension": ".py",
   "mimetype": "text/x-python",
   "name": "python",
   "nbconvert_exporter": "python",
   "pygments_lexer": "ipython3",
   "version": "3.9.7"
  }
 },
 "nbformat": 4,
 "nbformat_minor": 5
}
